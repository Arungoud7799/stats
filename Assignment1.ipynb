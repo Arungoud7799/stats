{
 "cells": [
  {
   "cell_type": "code",
   "execution_count": 1,
   "metadata": {},
   "outputs": [],
   "source": [
    "# Q1. What is Statistics?\n",
    "\n",
    "# statistics deals with the collection , analysis, interpretation, presentation, and organising of data.\n",
    "# some of the keyconcepts in statistics include probability theorwy, statistical inference, hypothesis and regression analysis"
   ]
  },
  {
   "cell_type": "code",
   "execution_count": 2,
   "metadata": {},
   "outputs": [],
   "source": [
    "# Q2. Define the different types of statistics and give an example of when each type might be used."
   ]
  },
  {
   "cell_type": "code",
   "execution_count": 3,
   "metadata": {},
   "outputs": [],
   "source": [
    "# There are two main types of statistics\n",
    "# 1) descriptive statistics :\n",
    "# These are used to summarize and describe the important features of a dataset\n",
    "# This type of statistics includes measures of central tendency, such as mean, median, and mode, as well as measures of variability, such as range, standard deviation, and variance.\n",
    "# 2)Inferential Statistics: Inferential statistics are used to draw conclusions about a population based on a sample of data.\n",
    "# eg) Z-test p-test"
   ]
  },
  {
   "cell_type": "code",
   "execution_count": 4,
   "metadata": {},
   "outputs": [],
   "source": [
    "# Q3. What are the different types of data and how do they differ from each other? Provide an example of\n",
    "# each type of data."
   ]
  },
  {
   "cell_type": "code",
   "execution_count": 5,
   "metadata": {},
   "outputs": [],
   "source": [
    "# Data\n",
    "# Quantitative and Qualitative\n",
    "#  Quantitative two types 1) Discrete 2) Continuous\n",
    "#  1) Discrete  eg) No of bank accounts  (whole Number)\n",
    "# No of childrens in family\n",
    "\n",
    "# 2) continuous data (Any value)\n",
    "# eg) Weight, Height, Temoerature, speed\n",
    "\n",
    "\n",
    "# Qualitative data  (Categorical data)\n",
    "#1) Nominal = eg) Gender, Blood group, color\n",
    "# 2) Ordinal = Based on ranking (e.g. low, medium, high).\n"
   ]
  },
  {
   "cell_type": "code",
   "execution_count": 6,
   "metadata": {},
   "outputs": [],
   "source": [
    "# Q4. Categorise the following datasets with respect to quantitative and qualitative data types:\n",
    "# (i) Grading in exam: A+, A, B+, B, C+, C, D, E\n",
    "# (ii) Colour of mangoes: yellow, green, orange, red\n",
    "# (iii) Height data of a class: [178.9, 179, 179.5, 176, 177.2, 178.3, 175.8,...]\n",
    "# (iv) Number of mangoes exported by a farm: [500, 600, 478, 672, ...]"
   ]
  },
  {
   "cell_type": "code",
   "execution_count": 8,
   "metadata": {},
   "outputs": [],
   "source": [
    "# i) qualitative data (Nominal)\n",
    "# ii) color (Nominal) (Qualitative data)\n",
    "# iii)Height data of a class: [178.9, 179, 179.5, 176, 177.2, 178.3, 175.8,...]\n",
    "#  Quantitaive continuous data\n",
    "# iv) No of Mangoes (Discrete data)"
   ]
  },
  {
   "cell_type": "code",
   "execution_count": 9,
   "metadata": {},
   "outputs": [],
   "source": [
    "# Q5. Explain the concept of levels of measurement and give an example of a variable for each level.\n",
    "# 1)Nominal scale data   (Qualitative) (eg Gender colors )  (order doesnot matter)\n",
    "\n",
    "# 2) Ordinal scale data (Ranking and order matter)  (Differnce cannot be neasures)\n",
    "# Degree Qualification and Marks  in this rank matters based on qualification and marks"
   ]
  },
  {
   "cell_type": "code",
   "execution_count": 10,
   "metadata": {},
   "outputs": [],
   "source": [
    "# iii) Interval  scale data \n",
    "# (The rabk and order matters)\n",
    "# Difference can be measured\n",
    "# Does not having \"0\" starting value\n",
    "# eg) Temperature\n",
    "\n",
    "# iv) Ratio scale data\n",
    "# order and rank matters\n",
    "# Difference and ratio and measurable\n",
    "# It does  have a \"0\" starting\n",
    "# eg) Grading\n"
   ]
  },
  {
   "cell_type": "code",
   "execution_count": 11,
   "metadata": {},
   "outputs": [],
   "source": [
    "# 4)Why is it important to understand the level of measurement when analyzing data? Provide an\n",
    "# example to illustrate your answer."
   ]
  },
  {
   "cell_type": "code",
   "execution_count": 13,
   "metadata": {},
   "outputs": [],
   "source": [
    "# Understanding the level of measurement of data is important because it determines the types of statistical analyses that can be performed on the data. Different statistical techniques are required for different levels of measurement. Using the wrong statistical technique can lead to inaccurate results and conclusions.\n",
    "# For example, let's say you are conducting a survey to understand the satisfaction levels of customers with a particular product. You ask respondents to rate the product on a scale of 1 to 5, with 1 being very dissatisfied and 5 being very satisfied. In this case, the data you collect is ordinal in nature because there is a ranking of values, but the intervals between the values are not necessarily equal.\n"
   ]
  },
  {
   "cell_type": "code",
   "execution_count": 14,
   "metadata": {},
   "outputs": [],
   "source": [
    "# Q7. How nominal data type is different from ordinal data type.\n",
    "\n",
    "# Nominal data is a type of categorical data where the values are simply labels or names that do not have any intrinsic order or ranking. Nominal data can be used to categorize data into distinct groups, but it does not provide any information about the magnitude or size of differences between the groups. Examples of nominal data include gender (male, female, non-binary), marital status (single, married, divorced), and types of fruits (apple, banana, orange).\n",
    "\n",
    "# Ordinal data, on the other hand, is also a type of categorical data, but the values are ranked in a specific order or sequence based on a specific attribute. Unlike nominal data, ordinal data provides information about the relative magnitude or size of differences between the groups. However, the differences between the values may not be equally spaced or measurable. Examples of ordinal data include educational level (high school diploma, associate's degree, bachelor's degree, master's degree, etc.), survey responses (strongly agree, agree, neutral, disagree, strongly disagree), and socioeconomic status (low, medium, high).\n",
    "\n"
   ]
  },
  {
   "cell_type": "code",
   "execution_count": 15,
   "metadata": {},
   "outputs": [],
   "source": [
    "# Q8. Which type of plot can be used to display data in terms of range?\n",
    "# A box plot, also known as a box-and-whisker plot, is a type of plot that can be used to display data in terms of range. Box plots provide a visual representation of the distribution of a dataset by displaying the median, quartiles, and range of the data."
   ]
  },
  {
   "cell_type": "code",
   "execution_count": 16,
   "metadata": {},
   "outputs": [
    {
     "data": {
      "text/plain": [
       "<Axes: >"
      ]
     },
     "execution_count": 16,
     "metadata": {},
     "output_type": "execute_result"
    },
    {
     "data": {
      "image/png": "[encoded data removed]",
      "text/plain": [
       "<Figure size 640x480 with 1 Axes>"
      ]
     },
     "metadata": {},
     "output_type": "display_data"
    }
   ],
   "source": [
    "import seaborn as sns\n",
    "import matplotlib.pyplot as plt\n",
    "data = [20, 35, 40, 45, 50, 60, 65, 70, 75, 80, 85, 90]\n",
    "\n",
    "sns.boxplot(data=data)\n",
    "\n"
   ]
  },
  {
   "cell_type": "code",
   "execution_count": 17,
   "metadata": {},
   "outputs": [],
   "source": [
    "# Q9. Describe the difference between descriptive and inferential statistics. Give an example of each\n",
    "# type of statistics and explain how they are used.\n",
    "\n",
    "\n",
    "# Descriptive statistics is a set of techniques used to describe and summarize the main features or characteristics of a data set. It involves analyzing the data using measures of central tendency, such as mean, median, and mode, and measures of variability, such as range, variance, and standard deviation. \n",
    "# Example of descriptive statistics: Let's say you have collected data on the ages of customers who visit a store. You can use descriptive statistics such as mean, median, mode, and standard deviation to summarize the data, understand the age distribution of the customers, and identify any potential outliers.\n",
    "\n",
    "\n",
    "\n",
    "# Inferential statistics, on the other hand, is a set of techniques used to draw conclusions or make predictions about a larger population based on a sample of data. Inferential statistics involves testing hypotheses, estimating parameters, and making predictions based on the sample data. It involves calculating probabilities, performing hypothesis tests, and constructing confidence intervals. Inferential statistics are used to make generalizations about the population from the sample data.\n",
    "\n",
    "# Example of inferential statistics: Let's say you want to determine whether there is a significant difference in the mean age of customers who visit two different stores. You can use inferential statistics such as t-tests, ANOVA, or regression analysis to analyze the data and draw conclusions about the population mean age based on the sample data."
   ]
  },
  {
   "cell_type": "code",
   "execution_count": 18,
   "metadata": {},
   "outputs": [],
   "source": [
    "# Q10. What are some common measures of central tendency and variability used in statistics? Explain\n",
    "# how each measure can be used to describe a dataset./"
   ]
  },
  {
   "cell_type": "code",
   "execution_count": 19,
   "metadata": {},
   "outputs": [],
   "source": [
    "# Measures of central tendency:\n",
    "\n",
    "# Mean: The arithmetic mean is the sum of all values in a data set divided by the number of values. It is often used as a measure of central tendency to describe the typical or average value in a data set.\n",
    "# Median: The median is the middle value in a sorted data set. It is often used as a measure of central tendency when the data set contains extreme values or outliers.\n",
    "# Mode: The mode is the most frequently occurring value in a data set. It is often used as a measure of central tendency when the data set contains multiple peaks or modes."
   ]
  },
  {
   "cell_type": "code",
   "execution_count": 20,
   "metadata": {},
   "outputs": [],
   "source": [
    "# Measures of variability:\n",
    "\n",
    "# Range: The range is the difference between the maximum and minimum values in a data set. It is often used to describe the spread of the data.\n",
    "# Variance: The variance is the average of the squared differences from the mean. It measures how far the data points are from the mean. A high variance indicates that the data is spread out, while a low variance indicates that the data is clustered around the mean.\n",
    "# Standard deviation: The standard deviation is the square root of the variance. It is often used to describe the spread of the data, and it is more interpretable than the variance because it is expressed in the same units as the original data."
   ]
  },
  {
   "cell_type": "code",
   "execution_count": null,
   "metadata": {},
   "outputs": [],
   "source": []
  }
 ],
 "metadata": {
  "kernelspec": {
   "display_name": "Python 3",
   "language": "python",
   "name": "python3"
  },
  "language_info": {
   "codemirror_mode": {
    "name": "ipython",
    "version": 3
   },
   "file_extension": ".py",
   "mimetype": "text/x-python",
   "name": "python",
   "nbconvert_exporter": "python",
   "pygments_lexer": "ipython3",
   "version": "3.11.1"
  },
  "orig_nbformat": 4
 },
 "nbformat": 4,
 "nbformat_minor": 2
}
